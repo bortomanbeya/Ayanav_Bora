{
  "nbformat": 4,
  "nbformat_minor": 0,
  "metadata": {
    "colab": {
      "provenance": [],
      "authorship_tag": "ABX9TyP8bBfmNxFd4UA/X+RDUK6a",
      "include_colab_link": true
    },
    "kernelspec": {
      "name": "python3",
      "display_name": "Python 3"
    },
    "language_info": {
      "name": "python"
    }
  },
  "cells": [
    {
      "cell_type": "markdown",
      "metadata": {
        "id": "view-in-github",
        "colab_type": "text"
      },
      "source": [
        "<a href=\"https://colab.research.google.com/github/bortomanbeya/Ayanav_Bora/blob/main/%5BSET_5%5D_Housing_Price_Prediction.ipynb\" target=\"_parent\"><img src=\"https://colab.research.google.com/assets/colab-badge.svg\" alt=\"Open In Colab\"/></a>"
      ]
    },
    {
      "cell_type": "code",
      "source": [
        "# Housing Price Prediction using Linear Regression\n",
        "\n",
        "import pandas as pd\n",
        "from sklearn.model_selection import train_test_split\n",
        "from sklearn.linear_model import LinearRegression\n",
        "from sklearn.metrics import mean_squared_error, r2_score\n",
        "from sklearn.preprocessing import OneHotEncoder\n",
        "from sklearn.impute import SimpleImputer\n",
        "from sklearn.compose import ColumnTransformer\n",
        "from sklearn.pipeline import Pipeline\n",
        "\n",
        "# Step 1: Load dataset\n",
        "df = pd.read_csv(\"housing.csv\")  # Make sure housing.csv is uploaded\n",
        "\n",
        "# Step 2: Features and Target\n",
        "X = df.drop(\"median_house_value\", axis=1)\n",
        "y = df[\"median_house_value\"]\n",
        "\n",
        "# Step 3: Preprocessing\n",
        "numerical_cols = X.select_dtypes(include=[\"float64\", \"int64\"]).columns\n",
        "categorical_cols = X.select_dtypes(include=[\"object\"]).columns\n",
        "\n",
        "numerical_pipeline = Pipeline([\n",
        "    (\"imputer\", SimpleImputer(strategy=\"mean\"))\n",
        "])\n",
        "\n",
        "categorical_pipeline = Pipeline([\n",
        "    (\"onehot\", OneHotEncoder(handle_unknown=\"ignore\"))\n",
        "])\n",
        "\n",
        "preprocessor = ColumnTransformer([\n",
        "    (\"num\", numerical_pipeline, numerical_cols),\n",
        "    (\"cat\", categorical_pipeline, categorical_cols)\n",
        "])\n",
        "\n",
        "# Step 4: Model Pipeline\n",
        "model_pipeline = Pipeline([\n",
        "    (\"preprocessor\", preprocessor),\n",
        "    (\"model\", LinearRegression())\n",
        "])\n",
        "\n",
        "# Step 5: Train-test split (80-20)\n",
        "X_train, X_test, y_train, y_test = train_test_split(X, y, test_size=0.2, random_state=42)\n",
        "\n",
        "# Step 6: Train the model\n",
        "model_pipeline.fit(X_train, y_train)\n",
        "\n",
        "# Step 7: Predictions and Evaluation\n",
        "y_pred = model_pipeline.predict(X_test)\n",
        "\n",
        "mse = mean_squared_error(y_test, y_pred)\n",
        "r2 = r2_score(y_test, y_pred)\n",
        "\n",
        "print(\"Mean Squared Error:\", mse)\n",
        "print(\"R-squared Score:\", r2)\n"
      ],
      "metadata": {
        "colab": {
          "base_uri": "https://localhost:8080/"
        },
        "id": "WB7ENl0TVHYi",
        "outputId": "f28f06e4-616c-46ed-94f5-e9da2f81b016"
      },
      "execution_count": null,
      "outputs": [
        {
          "output_type": "stream",
          "name": "stdout",
          "text": [
            "Mean Squared Error: 4904409297.414935\n",
            "R-squared Score: 0.6257344555133741\n"
          ]
        }
      ]
    }
  ]
}